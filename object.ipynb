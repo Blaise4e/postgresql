{
 "cells": [
  {
   "cell_type": "code",
   "execution_count": 1,
   "metadata": {},
   "outputs": [],
   "source": [
    "import pandas as pd"
   ]
  },
  {
   "cell_type": "code",
   "execution_count": 10,
   "metadata": {},
   "outputs": [],
   "source": [
    "data = pd.read_csv('Promoteur_imo.csv', encoding=\"UTF-8\", sep=';')"
   ]
  },
  {
   "cell_type": "markdown",
   "metadata": {},
   "source": [
    "class bien_imo:\n",
    "  def __init__(self, id, id_lot, nb_piece, typologie, prix_tva_reduit, prix_tva_normal, prix_ht, prix_m_ht, prix_m_ttc, orientation, \n",
    "  exterieur, balcony, garden, parking, ville, departement, date_fin_programme, adresse_entiere, date_extraction, surface, etage, \n",
    "  nom_du_programme, promoteur ):\n",
    "    self.id = id\n",
    "    self.id_lot = id_lot\n",
    "    self.nb_piece = nb_piece\n",
    "    self.typologie = typologie\n",
    "    self.prix_tva_reduit = prix_tva_reduit\n",
    "    self.prix_tva_normal = prix_tva_normal\n",
    "    self.prix_ht = prix_ht\n",
    "    self.prix_m_ht = prix_m_ht\n",
    "    self.prix_m_ttc = prix_m_ttc\n",
    "    self.orientation = orientation\n",
    "    self.exterieur = exterieur\n",
    "    self.balcony = balcony\n",
    "    self.garden = garden\n",
    "    self.parking = parking\n",
    "    self.ville = ville\n",
    "    self.departement = departement\n",
    "    self.date_fin_programme = date_fin_programme\n",
    "    self.adresse_entiere = adresse_entiere\n",
    "    self.date_extraction = date_extraction\n",
    "    self.surface = surface\n",
    "    self.etage = etage\n",
    "    self.nom_du_programme = nom_du_programme\n",
    "    self.promoteur = promoteur\n",
    "\n"
   ]
  },
  {
   "cell_type": "code",
   "execution_count": 57,
   "metadata": {},
   "outputs": [],
   "source": [
    "class bien_immo:\n",
    "  my_list = ['id', 'id_lot', 'nb_piece', 'typologie', 'prix_tva_reduit', 'prix_tva_normal', 'prix_ht', 'prix_m_ht', 'prix_m_ttc', 'orientation', \n",
    "  'exterieur', 'balcony', 'garden', 'parking', 'ville', 'departement', 'date_fin_programme', 'adresse_entiere', 'date_extraction', 'surface', 'etage', \n",
    "  'nom_du_programme', 'promoteur']\n",
    "  def __init__(self, my_list):\n",
    "    self.id = my_list[0]\n",
    "    self.id_lot = my_list[1]\n",
    "    self.nb_piece = my_list[2]\n",
    "    self.typologie = my_list[3]\n",
    "    self.prix_tva_reduit = my_list[4]\n",
    "    self.prix_tva_normal = my_list[5]\n",
    "    self.prix_ht = my_list[6]\n",
    "    self.prix_m_ht = my_list[7]\n",
    "    self.prix_m_ttc = my_list[8]\n",
    "    self.orientation = my_list[9]\n",
    "    self.exterieur = my_list[10]\n",
    "    self.balcony = my_list[11]\n",
    "    self.garden = my_list[12]\n",
    "    self.parking = my_list[13]\n",
    "    self.ville = my_list[14]\n",
    "    self.departement = my_list[15]\n",
    "    self.date_fin_programme = my_list[16]\n",
    "    self.adresse_entiere = my_list[17]\n",
    "    self.date_extraction = my_list[18]\n",
    "    self.surface = my_list[19]\n",
    "    self.etage = my_list[20]\n",
    "    self.nom_du_programme = my_list[21]\n",
    "    self.promoteur = my_list[22]"
   ]
  },
  {
   "cell_type": "code",
   "execution_count": 85,
   "metadata": {},
   "outputs": [],
   "source": [
    "my_objects= []\n",
    "for i in range(len(data)):\n",
    "    my_objects.append(bien_immo(data.iloc[i,:].values))"
   ]
  },
  {
   "cell_type": "code",
   "execution_count": 90,
   "metadata": {},
   "outputs": [
    {
     "data": {
      "text/plain": [
       "'Clermont-Ferrand'"
      ]
     },
     "execution_count": 90,
     "metadata": {},
     "output_type": "execute_result"
    }
   ],
   "source": [
    "my_objects[1].ville"
   ]
  }
 ],
 "metadata": {
  "interpreter": {
   "hash": "a15ee5bd0b7c5b2d5bf96d70b05ac3e9f48f0b789c21136924a402defbe54f85"
  },
  "kernelspec": {
   "display_name": "Python 3.9.8 64-bit ('env': venv)",
   "language": "python",
   "name": "python3"
  },
  "language_info": {
   "codemirror_mode": {
    "name": "ipython",
    "version": 3
   },
   "file_extension": ".py",
   "mimetype": "text/x-python",
   "name": "python",
   "nbconvert_exporter": "python",
   "pygments_lexer": "ipython3",
   "version": "3.9.8"
  },
  "orig_nbformat": 4
 },
 "nbformat": 4,
 "nbformat_minor": 2
}
